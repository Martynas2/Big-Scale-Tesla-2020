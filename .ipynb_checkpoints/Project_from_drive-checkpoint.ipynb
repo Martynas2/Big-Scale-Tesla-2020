{
 "cells": [
  {
   "cell_type": "markdown",
   "metadata": {
    "colab_type": "text",
    "id": "WEKaPxNce-_3"
   },
   "source": [
    "# **Tableau Prep - Clean your data**\n",
    "\n"
   ]
  },
  {
   "cell_type": "markdown",
   "metadata": {
    "colab_type": "text",
    "id": "E6jJcwFd-e7G"
   },
   "source": [
    "## **0. Introduction - What is Tableau Prep Builder?**"
   ]
  },
  {
   "cell_type": "markdown",
   "metadata": {
    "colab_type": "text",
    "id": "4P1RooNC-l2X"
   },
   "source": [
    "Tableau Prep Builder is designed to help **ordinary people** quickly and confidently combine, shape, and clean their data for further analysis. It is a powerful tool for performing [data cleansing](https://en.wikipedia.org/wiki/Data_cleansing), the process of turning data that is corrupt, partly missing or in other ways incoherent with your system (that is, [dirty data](https://en.wikipedia.org/wiki/Dirty_data)), into an intelligible and consitent format. \n",
    "\n",
    "Collected data in its raw format is rarely accurate, the causes for which are diverse. Sensors might malfunction, poorly implemented algorithms can cause system bugs and table irregularities, as can user mishandling. Data can be missing, out of boundaries, skewed, misplaced or even in the wrong format.\n",
    "\n",
    "In order to do proper analysis of your raw data, you therefore need some knowledge of data prepping, and Tableau Prep Builder is an intuitive and adequate starting point.\n",
    "\n",
    "Tableau Prep Builder allows you to clean the data by removing unwanted values, correct user mistakes and join different tables for further analysis. As a carrot on a stick we'll provide for you a snippet of code to perform a machine learning algorithm on the data if you manage to clean it properly. Stay tuned!\n",
    "\n",
    "### Head to https://www.tableau.com/support/releases/prep and download the newest version!"
   ]
  },
  {
   "cell_type": "markdown",
   "metadata": {
    "colab_type": "text",
    "id": "9Si4mFbl8bl1"
   },
   "source": [
    "## **1. Tableau Prep tutorial**"
   ]
  },
  {
   "cell_type": "markdown",
   "metadata": {
    "colab_type": "text",
    "id": "IitMhphBBXN4"
   },
   "source": [
    "This tutorial will show you how to solve widely spread problems encountered whilst cleaning data for analysis using Tableau Prep Builder.\n",
    "\n",
    "**Pay attention to the techniques presented in this tutorial. All will be required to prepare the data provided in the following exercise.**"
   ]
  },
  {
   "cell_type": "markdown",
   "metadata": {
    "colab_type": "text",
    "id": "Q4MKGGz58rSS"
   },
   "source": [
    "### **Import the data**"
   ]
  },
  {
   "cell_type": "markdown",
   "metadata": {
    "colab_type": "text",
    "id": "jYf9kXll9koU"
   },
   "source": [
    "To get started, the first step is to connect to your data and create an Input step. From there you will start building a workflow or \"flow\", as it's called in Tableau Prep Builder, and add more steps to take action on your data as you go.\n",
    "\n",
    "\n",
    "#### **Open a file**\n",
    "\n",
    "To add your dataset to the Tableau flow you can choose the \"Add\" button in the  Connections pane or simply click the \"Connect to data\" button. This will show all the different databases you can connect to. You can also select a text file that contains data, like a CSV.\n",
    "\n",
    "For the following exercise our data will be stored in .xlsx files. Click the \"Microsoft Excel\" option and navigate to where your data is.\n",
    "\n",
    "<img src=\"screenshots/big_1.png\" style=\"width: 500px;\"/>"
   ]
  },
  {
   "cell_type": "markdown",
   "metadata": {
    "colab_type": "text",
    "id": "p0g2qZuICZKq"
   },
   "source": [
    "### **Select tables and columns**\n",
    "\n",
    "If you have a sigle table, the input step will be automatically created when you add data to the flow.\n",
    "Otherwise you can drag the tables you want from the left pane to the main flow pane (top pane), this will add a new data input step. \n",
    "\n",
    "<img src=\"screenshots/big_2.png\" style=\"width: 500px;\"/>\n",
    "\n",
    "In this step, we can choose the columns we want to use. For that simply check or uncheck the columns you want. You can also filter the rows by indicating a rule on a specific column. \n",
    "\n",
    "<img src=\"screenshots/big_3.png\" style=\"width: 500px;\"/>\n",
    "\n",
    "\n",
    "With large data sets, Tableau Prep will automatically bring in a sample of the data to maximize performance. If you don't see the data you expect, you might need to adjust the sample. You can adjust the data sample in the data sample tab. In any case, once you run the flow, all the data are processed. \n",
    "\n",
    "<img src=\"screenshots/big_4.png\" style=\"width: 500px;\"/>\n",
    "\n",
    "\n",
    "Now that you have the data files loaded it might be a good idea to take a look at the bottom pane, also called input pane, to see if you can spot any issues.\n",
    "\n"
   ]
  },
  {
   "cell_type": "markdown",
   "metadata": {
    "colab_type": "text",
    "id": "tuwf1iM186pl"
   },
   "source": [
    "### **Clean Step**"
   ]
  },
  {
   "cell_type": "markdown",
   "metadata": {
    "colab_type": "text",
    "id": "gksgBc2-9lZv"
   },
   "source": [
    "To clean the data, you can click on the plus sign at the right of the data input step and click on \"Clean Step\". The workspace will split into three parts: the Flow pane, the Profile pane with a toolbar, and the Data grid. The Profile pane shows you the structure of your data, summarizing the field values into bins so that you can quickly see related values and spot outliers and null values. \n",
    "\n",
    "-----------------screenshoot\n",
    "\n",
    "Here you can remove fields, change datatypes, rename your columns, filter rows, make calculated fields, group and replace.\n",
    "\n",
    "#### **Remove empty rows**\n",
    "\n",
    "If your table contains missing values or values that you want to delete, you can select the relevant value and then delete it.\n",
    "In this example, we have a lot of rows containing *null*. To delete those rows, we click on the *null*  field and then delete. This will delete all rows that are *null*.\n",
    "\n",
    "-----------------screenshoot\n",
    "\n",
    "#### **Rename a column**\n",
    "\n",
    "To rename a column, simply double click on it and write the new column name.\n",
    "\n",
    "-----------------screenshoot\n",
    "\n",
    "#### **Change the datatype of a column**\n",
    "\n",
    "If the datatype of a column does not correspond to the values contained in the column, you may have problems while combining files. To change the datatype of a column simply click on the datatype and select the correct one. \n",
    "\n",
    "-----------------screenshoot\n",
    "\n",
    "Sometimes, your numeric values can be associated with a mesurement unit that appears in every row. This prevents you from changing the datatype from sting to numeric. You can easily remove the units to keep only the numeric values by clicking on the concerned column, then on more options (3 dots) then *Clean* and then *Remove Letters*. This will automaticaly remove all the letter in every row of the column and you will be able to change the datatype of the column to numeric. This method shoud remove all the letter and symbols to only leave numeric values.\n",
    "\n",
    "-----------------screenshoot\n",
    "\n",
    "#### **Calculated field**\n",
    "\n",
    "You can create a calculated field by clicking on *Create Calculated Field* located in the toolbar. This will open the Calculation editor, here you can enter the calculated field name and the calculation you want to make. For this exaple we want to :::::::: \n",
    "\n",
    "Once you create a calculated field, you can delete the fields used for the calculation without afecting the calculated field.\n",
    "\n",
    "-----------------screenshoot\n",
    "\n",
    "\n",
    "#### **Group values**\n",
    "\n",
    "Mistakes may happen and your dataset may contain the same value spelled differently. You can easily group and replace fields with Tableau Prep by selecting the correct value, then right click on it, then choose *Group and replace* and then click on *Manual Selection*. This will open the Group and Replace editor, in the left pane you can select the correct value and at the right the other values that should be named the same.\n",
    "\n",
    "-----------------screenshoot\n",
    "\n",
    "\n",
    "#### **Filter columns**\n",
    "\n",
    "\n",
    "\n",
    "-----------------screenshoot\n",
    "\n",
    "#### **Remove columns**\n",
    "\n",
    "You can select a column, or multiple ones using Ctrl (or Cmd on MacOS) then right click and delete to delete columns.\n",
    "\n",
    "-----------------screenshoot\n",
    "\n",
    "#### **Split field**\n",
    "\n",
    "\n",
    "\n",
    "-----------------screenshoot\n",
    "\n",
    "#### **Changes history**\n",
    "\n",
    "All action made in a cleaning step, like removing columns, renaming... are tracked in the Changes pane. To access this changes pane, click on to arrow located next to *changes* in the profile pane. This allows to easily go back in time or remove some actions. Right click on a step to delete or edit the step, simple click to go to the state of the flow at that time. You can also rename the changes steps to make changes tracking easier by double-ckick on a step and writing the new name.\n",
    "\n",
    "#### **Search fields**\n",
    "\n",
    "When you have a lot of fields, you can perform a search in the Profile pane using the search box.\n",
    "\n",
    "-----------------screenshoot\n",
    "\n",
    "\n",
    "\n",
    "\n"
   ]
  },
  {
   "cell_type": "markdown",
   "metadata": {
    "colab_type": "text",
    "id": "rahj3lBb8_x0"
   },
   "source": [
    "### **Aggregate**"
   ]
  },
  {
   "cell_type": "markdown",
   "metadata": {
    "colab_type": "text",
    "id": "YiZ645zY9mC5"
   },
   "source": [
    "This step allows you to group values together as in SQL group by combine with count, sum or other. \n",
    "It is used when we want to change the level of detail of the data so it’s less granular, often in preparation for being combined with other data at a higher level of aggregation.\n",
    "Once we choose the fields we want to group, we can choose the fields we want to aggregate and how (sum, count, average, median...)."
   ]
  },
  {
   "cell_type": "markdown",
   "metadata": {
    "colab_type": "text",
    "id": "kcCCv8Fq9GXN"
   },
   "source": [
    "### **Pivot**"
   ]
  },
  {
   "cell_type": "markdown",
   "metadata": {
    "colab_type": "text",
    "id": "OozifC9L9mtm"
   },
   "source": []
  },
  {
   "cell_type": "markdown",
   "metadata": {
    "colab_type": "text",
    "id": "5qfqSZzU9Zvi"
   },
   "source": [
    "### **Join**"
   ]
  },
  {
   "cell_type": "markdown",
   "metadata": {
    "colab_type": "text",
    "id": "shHCj_hI9nVl"
   },
   "source": [
    "#### Inner-Join\n",
    "\n",
    "\n",
    "#### Left-Join\n",
    "\n",
    "\n",
    "#### Right-Join\n",
    "\n",
    "\n",
    "#### Full-Join"
   ]
  },
  {
   "cell_type": "markdown",
   "metadata": {
    "colab_type": "text",
    "id": "COIuh3OO9cax"
   },
   "source": [
    "### **Union**"
   ]
  },
  {
   "cell_type": "markdown",
   "metadata": {
    "colab_type": "text",
    "id": "beuiM1F6Ia-1"
   },
   "source": []
  },
  {
   "cell_type": "markdown",
   "metadata": {
    "colab_type": "text",
    "id": "_rOz0gro9eth"
   },
   "source": [
    "### **Script**"
   ]
  },
  {
   "cell_type": "markdown",
   "metadata": {
    "colab_type": "text",
    "id": "u6mQ_5iN9oTs"
   },
   "source": []
  },
  {
   "cell_type": "markdown",
   "metadata": {
    "colab_type": "text",
    "id": "n017U7UV9hEp"
   },
   "source": [
    "### **Output**"
   ]
  },
  {
   "cell_type": "markdown",
   "metadata": {
    "colab_type": "text",
    "id": "pbC3jo0F9o_K"
   },
   "source": []
  },
  {
   "cell_type": "markdown",
   "metadata": {
    "colab_type": "text",
    "id": "NYbhU6J38Uef"
   },
   "source": [
    "## **2. Exercise**"
   ]
  },
  {
   "cell_type": "markdown",
   "metadata": {
    "colab_type": "text",
    "id": "uk6gRAG58wsS"
   },
   "source": []
  },
  {
   "cell_type": "markdown",
   "metadata": {
    "colab_type": "text",
    "id": "aSjv3ND88sXK"
   },
   "source": [
    "## **3. Solution (video)**"
   ]
  }
 ],
 "metadata": {
  "colab": {
   "collapsed_sections": [],
   "name": "Project_1.ipynb",
   "provenance": []
  },
  "kernelspec": {
   "display_name": "Python 3",
   "language": "python",
   "name": "python3"
  },
  "language_info": {
   "codemirror_mode": {
    "name": "ipython",
    "version": 3
   },
   "file_extension": ".py",
   "mimetype": "text/x-python",
   "name": "python",
   "nbconvert_exporter": "python",
   "pygments_lexer": "ipython3",
   "version": "3.7.6"
  }
 },
 "nbformat": 4,
 "nbformat_minor": 4
}
