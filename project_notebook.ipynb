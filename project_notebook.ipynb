{
  "nbformat": 4,
  "nbformat_minor": 0,
  "metadata": {
    "colab": {
      "name": "Project_1.ipynb",
      "provenance": [],
      "collapsed_sections": [
        "rahj3lBb8_x0",
        "kcCCv8Fq9GXN",
        "5qfqSZzU9Zvi",
        "COIuh3OO9cax"
      ]
    },
    "kernelspec": {
      "name": "python3",
      "display_name": "Python 3"
    }
  },
  "cells": [
    {
      "cell_type": "markdown",
      "metadata": {
        "id": "WEKaPxNce-_3",
        "colab_type": "text"
      },
      "source": [
        "# **Tableau Prep - Clean your data**\n",
        "\n"
      ]
    },
    {
      "cell_type": "markdown",
      "metadata": {
        "id": "bm1GrHZ481pI",
        "colab_type": "text"
      },
      "source": [
        "`Github repository:` https://github.com/Martynas2/Big-Scale-Tesla-2020.git\n",
        "\n",
        "`Youtube video:` https://youtu.be/bi_NoBG7or4\n",
        "\n",
        "`Participants:`\n",
        "\n",
        "  * __Abdul Rahman Aloraib Alsalim__\n",
        "\n",
        "  * __Alexandre Tran__\n",
        "\n",
        "  * __Arild Madshaven__, Data aquisition and exercises\n",
        "\n",
        "  * __Martynas Savickas__\n",
        "\n"
      ]
    },
    {
      "cell_type": "markdown",
      "metadata": {
        "id": "E6jJcwFd-e7G",
        "colab_type": "text"
      },
      "source": [
        "## **0. Introduction - What is Tableau Prep Builder?**"
      ]
    },
    {
      "cell_type": "markdown",
      "metadata": {
        "id": "4P1RooNC-l2X",
        "colab_type": "text"
      },
      "source": [
        "Tableau Prep Builder is designed to help **ordinary people** quickly and confidently combine, shape, and clean their data for further analysis. It is a powerful tool for performing [data cleansing](https://en.wikipedia.org/wiki/Data_cleansing), the process of turning data that is corrupt, partly missing or in other ways incoherent with your system (that is, [dirty data](https://en.wikipedia.org/wiki/Dirty_data)), into an intelligible and consitent format. \n",
        "\n",
        "Collected data in its raw format is rarely accurate, the causes for which are diverse. Sensors might malfunction, poorly implemented algorithms can cause system bugs and table irregularities, as can user mishandling. Data can be missing, out of boundaries, skewed, misplaced or even in the wrong format.\n",
        "\n",
        "In order to do proper analysis of your raw data, you therefore need some knowledge of data prepping, and Tableau Prep Builder is an intuitive and adequate starting point.\n",
        "\n",
        "Tableau Prep Builder allows you to clean the data by removing unwanted values, correct user mistakes and join different tables for further analysis. As a carrot on a stick we'll provide for you a snippet of code to perform a machine learning algorithm on the data if you manage to clean it properly. Stay tuned!\n",
        "\n",
        "### Head to https://www.tableau.com/support/releases/prep and download the newest version!\n"
      ]
    },
    {
      "cell_type": "markdown",
      "metadata": {
        "id": "9Si4mFbl8bl1",
        "colab_type": "text"
      },
      "source": [
        "## **1. Tableau Prep tutorial**"
      ]
    },
    {
      "cell_type": "markdown",
      "metadata": {
        "id": "IitMhphBBXN4",
        "colab_type": "text"
      },
      "source": [
        "This tutorial will show you how to solve widely spread problems encountered whilst cleaning data for analysis using Tableau Prep Builder.\n",
        "\n",
        "**Pay attention to the techniques presented in this tutorial. All will be required to prepare the data provided in the following exercise.**"
      ]
    },
    {
      "cell_type": "markdown",
      "metadata": {
        "id": "Q4MKGGz58rSS",
        "colab_type": "text"
      },
      "source": [
        "### **Import the data**"
      ]
    },
    {
      "cell_type": "markdown",
      "metadata": {
        "id": "jYf9kXll9koU",
        "colab_type": "text"
      },
      "source": [
        "To get started, the first step is to connect to your data and create an Input step. From there you will start building a workflow or \"flow\", as it's called in Tableau Prep Builder, and add more steps to take action on your data as you go.\n",
        "\n",
        "\n",
        "#### **Open a file**\n",
        "\n",
        "\n",
        "To add your dataset to the Tableau flow you can choose the \"Add\" button in the Connections pane or simply click the \"Connect to data\" button. This will show all the different databases you can connect to. You can also select a text file that contains data, like a CSV.\n",
        "\n",
        "For the following exercise our data will be stored in .xlsx files. Click the \"Microsoft Excel\" option and navigate to where your data is.\n",
        "\n",
        "The first thing you see when you open Tableau Prep Builder is a Start page with a Connections pane, just like Tableau Desktop.\n",
        "\n",
        "![](https://shine.studentcv.ch/wp-content/uploads/2020/Bigscale/prep_inputdata.png \"Ajout de média\")\n",
        "\n",
        "![](https://shine.studentcv.ch/wp-content/uploads/2020/Bigscale/big_1.png \"Ajout de média\")\n",
        "\n",
        "In Tableau Prep Builder, the __Flow__ pane is a canvas, where you can interact with your data visually and build your flow. \n",
        "The __Input pane__ contains configuration options that allow you to work with the data. It also shows you the fields, data types, and sample values for your data set.\n",
        "\n",
        "You can also use the wildcard union, it is a great way to connect and combine to multiple files from a single data source that have a similar name and structure.\n",
        "\n",
        "You notice that the directory where you selected your file is already populated and the other files you need are listed in the Included files section in the Input pane. To use this option, the files must be in the same parent or child directory. You can pull any file that matches a name pattern that you configure.\n",
        "\n",
        "![](https://shine.studentcv.ch/wp-content/uploads/2020/Bigscale/big_5.png \"Ajout de média\")"
      ]
    },
    {
      "cell_type": "markdown",
      "metadata": {
        "id": "p0g2qZuICZKq",
        "colab_type": "text"
      },
      "source": [
        "\n",
        "#### **Select tables and columns**\n",
        "\n",
        "If you have a single table, the input step will be automatically created when you add data to the flow.\n",
        "Otherwise you can drag the tables you want from the left pane to the main flow pane (top pane), this will add a new data input step. \n",
        "\n",
        "![](https://shine.studentcv.ch/wp-content/uploads/2020/Bigscale/big_2.png \"Ajout de média\")\n",
        "\n",
        "In this step, we can choose the columns we want to use. For that simply check or uncheck the columns you want. You can also filter the rows by indicating a rule on a specific column. \n",
        "\n",
        "![](https://shine.studentcv.ch/wp-content/uploads/2020/Bigscale/big_3.png \"Ajout de média\")\n",
        "\n",
        "With large data sets, Tableau Prep will automatically bring in a sample of the data to maximize performance. If you don't see the data you expect, you might need to adjust the sample. You can adjust the data sample in the data sample tab. In any case, once you run the flow, all the data are processed. \n",
        "\n",
        "![](https://shine.studentcv.ch/wp-content/uploads/2020/Bigscale/big_4.png \"Ajout de média\")\n",
        "\n",
        "Now that you have the data files loaded it might be a good idea to take a look at the bottom pane, also called input pane, to see if you can spot any issues."
      ]
    },
    {
      "cell_type": "code",
      "metadata": {
        "id": "rCFqsTDdTf76",
        "colab_type": "code",
        "colab": {}
      },
      "source": [
        ""
      ],
      "execution_count": 0,
      "outputs": []
    },
    {
      "cell_type": "markdown",
      "metadata": {
        "id": "tuwf1iM186pl",
        "colab_type": "text"
      },
      "source": [
        "### **Clean Step**"
      ]
    },
    {
      "cell_type": "markdown",
      "metadata": {
        "id": "gksgBc2-9lZv",
        "colab_type": "text"
      },
      "source": [
        "To clean the data, you can click on the plus sign at the right of the data input step and click on \"Clean Step\". The workspace will split into three parts: the Flow pane, the Profile pane with a toolbar, and the Data grid. The Profile pane shows you the structure of your data, summarizing the field values into bins so that you can quickly see related values and spot outliers and null values. \n",
        "\n",
        "-----------------screenshoot\n",
        "\n",
        "Here you can remove fields, change datatypes, rename your columns, filter rows, make calculated fields, group and replace.\n",
        "\n",
        "#### **Remove empty rows**\n",
        "\n",
        "If your table contains missing values or values that you want to delete, you can select the relevant value and then delete it.\n",
        "In this example, we have a lot of rows containing *null*. To delete those rows, we click on the *null*  field and then delete. This will delete all rows that are *null*.\n",
        "\n",
        "-----------------screenshoot\n",
        "\n",
        "#### **Rename a column**\n",
        "\n",
        "To rename a column, simply double click on it and write the new column name.\n",
        "\n",
        "-----------------screenshoot\n",
        "\n",
        "#### **Change the datatype of a column**\n",
        "\n",
        "If the datatype of a column does not correspond to the values contained in the column, you may have problems while combining files. To change the datatype of a column simply click on the datatype and select the correct one. \n",
        "\n",
        "-----------------screenshoot\n",
        "\n",
        "\n",
        "#### **Calculated field**\n",
        "\n",
        "You can create a calculated field by clicking on *Create Calculated Field* located in the toolbar. This will open the Calculation editor, here you can enter the calculated field name and the calculation you want to make. For this exaple we want to :::::::: \n",
        "\n",
        "Once you create a calculated field, you can delete the fields used for the calculation without afecting the calculated field.\n",
        "\n",
        "-----------------screenshoot\n",
        "\n",
        "\n",
        "#### **Group values**\n",
        "\n",
        "Mistakes may happen and your dataset may contain the same value spelled differently. You can easily group and replace fields with Tableau Prep by selecting the correct value then *Group and replace* and the select all the values that actually should be the same.\n",
        "\n",
        "-----------------screenshoot\n",
        "\n",
        "\n",
        "#### **Filter columns**\n",
        "\n",
        "-----------------screenshoot\n",
        "\n",
        "#### **Remove columns**\n",
        "\n",
        "You can select a column, or multiple ones using Ctrl (or Cmd on MacOS) then right click and delete to delete columns.\n",
        "\n",
        "-----------------screenshoot\n",
        "\n",
        "#### **Split field**\n",
        "\n",
        "-----------------screenshoot\n",
        "\n",
        "#### **Changes history**\n",
        "\n",
        "All action made in a cleaning step, like removing columns, renaming... are tracked in the Changes pane. To access this changes pane, click on to arrow located next to *changes* in the profile pane. This allows to easily go back in time or remove some actions. Right click on a step to delete or edit the step, simple click to go to the state of the flow at that time. You can also rename the changes steps to make changes tracking easier by double-ckick on a step and writing the new name.\n",
        "\n",
        "#### **Search fields**\n",
        "\n",
        "When you have a lot of fields, you can perform a search in the Profile pane using the search box.\n",
        "\n",
        "-----------------screenshoot\n",
        "\n"
      ]
    },
    {
      "cell_type": "markdown",
      "metadata": {
        "id": "rahj3lBb8_x0",
        "colab_type": "text"
      },
      "source": [
        "### **Aggregate**"
      ]
    },
    {
      "cell_type": "markdown",
      "metadata": {
        "id": "YiZ645zY9mC5",
        "colab_type": "text"
      },
      "source": [
        "This step allows you to group values together as in SQL group by combine with count, sum or other. \n",
        "It is used when we want to change the level of detail of the data so it’s less granular, often in preparation for being combined with other data at a higher level of aggregation.\n",
        "Once we choose the fields we want to group, we can choose the fields we want to aggregate and how (sum, count, average, median...)."
      ]
    },
    {
      "cell_type": "markdown",
      "metadata": {
        "id": "kcCCv8Fq9GXN",
        "colab_type": "text"
      },
      "source": [
        "### **Pivot**"
      ]
    },
    {
      "cell_type": "markdown",
      "metadata": {
        "id": "OozifC9L9mtm",
        "colab_type": "text"
      },
      "source": [
        ""
      ]
    },
    {
      "cell_type": "markdown",
      "metadata": {
        "id": "5qfqSZzU9Zvi",
        "colab_type": "text"
      },
      "source": [
        "### **Join**"
      ]
    },
    {
      "cell_type": "markdown",
      "metadata": {
        "id": "shHCj_hI9nVl",
        "colab_type": "text"
      },
      "source": [
        "#### Inner-Join\n",
        "\n",
        "\n",
        "#### Left-Join\n",
        "\n",
        "\n",
        "#### Right-Join\n",
        "\n",
        "\n",
        "#### Full-Join"
      ]
    },
    {
      "cell_type": "markdown",
      "metadata": {
        "id": "COIuh3OO9cax",
        "colab_type": "text"
      },
      "source": [
        "### **Union**"
      ]
    },
    {
      "cell_type": "markdown",
      "metadata": {
        "id": "beuiM1F6Ia-1",
        "colab_type": "text"
      },
      "source": [
        "\n",
        "When the fields of your tables are similar, after cleaning them up, you are ready to combine them into a single table, you can union them.\n",
        "\n",
        "In the flow pane, drag the cleaning step of one table to the cleaning step of the table you want to make the union and drop on the Union option.\n",
        "\n",
        "-----------------screenshoot\n",
        "\n",
        "This will create a new Union step in the flow. You can add multiple tables to this union by simply dragging other cleaning steps to this union step and dropping on the Add option.\n",
        "\n",
        "-----------------screenshoot\n",
        "\n",
        "If your tables have the same column names and datatypes, Tableau Prep will automatically match them. You can also see the different colors on the top of each column that indicate the tables the data comes from.\n",
        "\n",
        "-----------------screenshoot\n"
      ]
    },
    {
      "cell_type": "markdown",
      "metadata": {
        "id": "_rOz0gro9eth",
        "colab_type": "text"
      },
      "source": [
        "### **Script**"
      ]
    },
    {
      "cell_type": "markdown",
      "metadata": {
        "id": "u6mQ_5iN9oTs",
        "colab_type": "text"
      },
      "source": [
        ""
      ]
    },
    {
      "cell_type": "markdown",
      "metadata": {
        "id": "n017U7UV9hEp",
        "colab_type": "text"
      },
      "source": [
        "### **Output**"
      ]
    },
    {
      "cell_type": "markdown",
      "metadata": {
        "id": "pbC3jo0F9o_K",
        "colab_type": "text"
      },
      "source": [
        ""
      ]
    },
    {
      "cell_type": "markdown",
      "metadata": {
        "id": "NYbhU6J38Uef",
        "colab_type": "text"
      },
      "source": [
        "## **2. Exercises**"
      ]
    },
    {
      "cell_type": "markdown",
      "metadata": {
        "id": "uk6gRAG58wsS",
        "colab_type": "text"
      },
      "source": [
        "This week's exercise concerns the cleansing of two datasets: \n",
        "\n",
        "*   `/Dirtified_data/earthquake/Mag6PlusEarthquakes1987-2014.xlsx`\n",
        "*   `/Dirtified_data/flood/FlooddataMasterListrev.xlsx`\n",
        "\n",
        "The first contains all earthquakes of magnitude > 6 registered across the globe between 1900 and 2013 (don't be fooled by the title), and the latter major floods and accompaied data between 1985 and 2014.\n",
        "\n",
        "The datasets are originally fetched from Tableau's openly available [resources](https://public.tableau.com/en-us/s/resources) which is a a brilliant place to spend your evenings if you want to sharpen your Tableau skills. \n",
        "\n",
        "However, the sets contain various mistakes and it's your job to prepare them for intelligible analysis. All tools needed have already been handed you through the tutorial, now is the time to put theory into practice.\n"
      ]
    },
    {
      "cell_type": "markdown",
      "metadata": {
        "id": "aNOhJC2xZqib",
        "colab_type": "text"
      },
      "source": [
        "### **2.1 Cleansing `FlooddataMasterListrev`**"
      ]
    },
    {
      "cell_type": "markdown",
      "metadata": {
        "id": "YUNQpBXBZq1K",
        "colab_type": "text"
      },
      "source": [
        "#### 1. Connect to the file `dirty_FlooddataMasterListrev`. What kind of file is it?"
      ]
    },
    {
      "cell_type": "markdown",
      "metadata": {
        "id": "kGSduDfsbC7E",
        "colab_type": "text"
      },
      "source": [
        "##### _Your answer_"
      ]
    },
    {
      "cell_type": "markdown",
      "metadata": {
        "id": "jtcvj0nLZq-e",
        "colab_type": "text"
      },
      "source": [
        "#### 2. Investigate its subtables. Do you observe any obviously expedient columns? Rows? Comment on any data you choose to drop, if any."
      ]
    },
    {
      "cell_type": "markdown",
      "metadata": {
        "id": "lOzqJK-Za80M",
        "colab_type": "text"
      },
      "source": [
        "##### _Your answer_"
      ]
    },
    {
      "cell_type": "markdown",
      "metadata": {
        "id": "iR6b3_dUa82x",
        "colab_type": "text"
      },
      "source": [
        "#### 3. Combine the two tables, either through union or join. Pay attention to NULL values. Select a proper method and justify your decision."
      ]
    },
    {
      "cell_type": "markdown",
      "metadata": {
        "id": "LQbZR7o3a85A",
        "colab_type": "text"
      },
      "source": [
        "#### _Your answer_"
      ]
    },
    {
      "cell_type": "markdown",
      "metadata": {
        "id": "VQlBV-XUa877",
        "colab_type": "text"
      },
      "source": [
        "#### 4. Investigate the file `/flood/Damages.xlsx`. Suggest a method for integrating this file in the project, and explain why it would be a bad idea."
      ]
    },
    {
      "cell_type": "markdown",
      "metadata": {
        "id": "3bZ_NIjSa8_i",
        "colab_type": "text"
      },
      "source": [
        "##### _Your answer_"
      ]
    },
    {
      "cell_type": "markdown",
      "metadata": {
        "id": "rHjmvXfIa9Bm",
        "colab_type": "text"
      },
      "source": [
        "#### 5. Add a clean step. Several columns contain similar data. Which? Get rid of excess columns in an appropriate manner."
      ]
    },
    {
      "cell_type": "markdown",
      "metadata": {
        "id": "HKEv9I59a9Dh",
        "colab_type": "text"
      },
      "source": [
        "##### _Your answer_"
      ]
    },
    {
      "cell_type": "markdown",
      "metadata": {
        "id": "XBzXuti9a9Fo",
        "colab_type": "text"
      },
      "source": [
        "#### 6. __Register #__ column. What does it represent? Justify the removal of entry 1680 and 2028. "
      ]
    },
    {
      "cell_type": "markdown",
      "metadata": {
        "id": "IW53Modfa9Hy",
        "colab_type": "text"
      },
      "source": [
        "##### _Your answer_"
      ]
    },
    {
      "cell_type": "markdown",
      "metadata": {
        "id": "IRcuYZAcgM_A",
        "colab_type": "text"
      },
      "source": [
        "#### 7. __Began__ and __Ended__ columns. Which dates are supposed to be present in the dataset? Which logical relationship do these columns have? How do they relate to __Duration in Days__? Implement proper Calculation filters to ensure these relationships are kept true."
      ]
    },
    {
      "cell_type": "markdown",
      "metadata": {
        "id": "tQFlwgQPgNCP",
        "colab_type": "text"
      },
      "source": [
        "##### _Your answer_"
      ]
    },
    {
      "cell_type": "markdown",
      "metadata": {
        "id": "lNpVdVCcgNEy",
        "colab_type": "text"
      },
      "source": [
        "#### 8. __Dead__ and __Displaced__ columns. Do some research. What were the deadliest and most devastating floods the past 50 years? Select proper value ranges. Argue why __Displaced__ outliers might be plausible."
      ]
    },
    {
      "cell_type": "markdown",
      "metadata": {
        "id": "57gvtkRqgNH6",
        "colab_type": "text"
      },
      "source": [
        "##### _Your answer_"
      ]
    },
    {
      "cell_type": "markdown",
      "metadata": {
        "id": "6EyNIKyTgNLh",
        "colab_type": "text"
      },
      "source": [
        "#### 9. __Country__. Investigate the different kinds of grouping to get the number of countries __below 190__."
      ]
    },
    {
      "cell_type": "markdown",
      "metadata": {
        "id": "evaod0CXgNNd",
        "colab_type": "text"
      },
      "source": [
        "##### _Your answer_"
      ]
    },
    {
      "cell_type": "markdown",
      "metadata": {
        "id": "QAsLZSoigNPZ",
        "colab_type": "text"
      },
      "source": [
        "#### 10. __Main cause__. Many categories are unique for one or few entries. From an Analytics perspective - what are the advantages of shortening and generalizing the list of Main causes? Aggregate similar descriptions until the length of unique values in __Main cause__ is down to 10% of its original size."
      ]
    },
    {
      "cell_type": "markdown",
      "metadata": {
        "id": "dvEIIVZogNRd",
        "colab_type": "text"
      },
      "source": [
        "##### _Your answer_"
      ]
    },
    {
      "cell_type": "markdown",
      "metadata": {
        "id": "O31Qx09JgNTm",
        "colab_type": "text"
      },
      "source": [
        "#### 11. __Magnitude__, __Longitude__ and __Latitude__. Examine the logical boundaries of these categories and implement suitable filters. Justify your solution."
      ]
    },
    {
      "cell_type": "markdown",
      "metadata": {
        "id": "iwEJMLjFBlr8",
        "colab_type": "text"
      },
      "source": [
        "##### _Your answer_"
      ]
    },
    {
      "cell_type": "markdown",
      "metadata": {
        "id": "DGI86JYmBl8J",
        "colab_type": "text"
      },
      "source": [
        "#### 12. How does your data look? Do you have any further suggestions? If you still have NULL values, should they be removed? Justify your answer. Export your cleansed table as a `.csv`file in the folder `/Cleansed_data/`."
      ]
    },
    {
      "cell_type": "markdown",
      "metadata": {
        "id": "b2SEy_VKBmES",
        "colab_type": "text"
      },
      "source": [
        "##### _Your answer_"
      ]
    },
    {
      "cell_type": "markdown",
      "metadata": {
        "id": "5LxCWc9uBmNC",
        "colab_type": "text"
      },
      "source": [
        "### **2.2 Cleansing `Mag6PlusEarthquakes1987-2014.xlsx`**"
      ]
    },
    {
      "cell_type": "markdown",
      "metadata": {
        "id": "_c2HB9beDFd7",
        "colab_type": "text"
      },
      "source": [
        "#### 1. Connect to the file and investigate its subtables. Find a proper way to combine the tables. Justify your solution."
      ]
    },
    {
      "cell_type": "markdown",
      "metadata": {
        "id": "GONep7JrDFhE",
        "colab_type": "text"
      },
      "source": [
        "##### _Your answer_"
      ]
    },
    {
      "cell_type": "markdown",
      "metadata": {
        "id": "N_TE84KuDFjm",
        "colab_type": "text"
      },
      "source": [
        "#### 2. Merge the duplicate columns. Which are they?"
      ]
    },
    {
      "cell_type": "markdown",
      "metadata": {
        "id": "0CzkxRetDFlt",
        "colab_type": "text"
      },
      "source": [
        "##### _Your answer_"
      ]
    },
    {
      "cell_type": "markdown",
      "metadata": {
        "id": "EpOO5AbCDFoH",
        "colab_type": "text"
      },
      "source": [
        "#### 3. Remove the two duplicate entries. Which are they?"
      ]
    },
    {
      "cell_type": "markdown",
      "metadata": {
        "id": "MC9qGtsdE8GU",
        "colab_type": "text"
      },
      "source": [
        "##### _Your answer_"
      ]
    },
    {
      "cell_type": "markdown",
      "metadata": {
        "id": "bc3B_88jE8O_",
        "colab_type": "text"
      },
      "source": [
        "#### 4. Suggest and implement a proper operation to the field __longitude,latitude__. Justify your answer."
      ]
    },
    {
      "cell_type": "markdown",
      "metadata": {
        "id": "EebQmApSE8W0",
        "colab_type": "text"
      },
      "source": [
        "##### _Your answer_"
      ]
    },
    {
      "cell_type": "markdown",
      "metadata": {
        "id": "z0S5E22dE8d0",
        "colab_type": "text"
      },
      "source": [
        "#### 5. Four fields contain values with logical boundaries. Identify them, and apply appropriate filters."
      ]
    },
    {
      "cell_type": "markdown",
      "metadata": {
        "id": "XJpG2tb5GnNB",
        "colab_type": "text"
      },
      "source": [
        "##### _Your answer_"
      ]
    },
    {
      "cell_type": "markdown",
      "metadata": {
        "id": "NMzG7NwEGnTL",
        "colab_type": "text"
      },
      "source": [
        "#### 6. What is the difference between the __Time__ and the __Date__ columns? What about __updated__? What should be the relationship between the three? Apply conditions."
      ]
    },
    {
      "cell_type": "markdown",
      "metadata": {
        "id": "0tYCLkXxH6qi",
        "colab_type": "text"
      },
      "source": [
        "##### _Your answer_"
      ]
    },
    {
      "cell_type": "markdown",
      "metadata": {
        "id": "zElY6pctH6zo",
        "colab_type": "text"
      },
      "source": [
        "#### 7. Think for yourself if any further steps are necessary. Export a `.csv`file to `/Cleased_data/`when you are satisfied with the results."
      ]
    },
    {
      "cell_type": "markdown",
      "metadata": {
        "id": "EougML3GH67K",
        "colab_type": "text"
      },
      "source": [
        "##### _Your answer_"
      ]
    },
    {
      "cell_type": "markdown",
      "metadata": {
        "id": "XDVRZlClJ7oh",
        "colab_type": "text"
      },
      "source": [
        "## 2.3 **Visualizing your data**"
      ]
    },
    {
      "cell_type": "markdown",
      "metadata": {
        "id": "i57fdMsBJ754",
        "colab_type": "text"
      },
      "source": [
        "Run the code block below to import your cleansed flood data to a pandas dataframe. Adjust the path if you have saved it in another location."
      ]
    },
    {
      "cell_type": "code",
      "metadata": {
        "id": "z7NK1iFEKNuk",
        "colab_type": "code",
        "outputId": "6f198acb-be1e-439b-8b6f-d07131671689",
        "colab": {
          "base_uri": "https://localhost:8080/",
          "height": 296
        }
      },
      "source": [
        "import os\n",
        "from os.path import join\n",
        "import pandas as pd\n",
        "import numpy as np\n",
        "from matplotlib import pyplot as plt\n",
        "%matplotlib inline\n",
        "\n",
        "folder_path = 'https://raw.githubusercontent.com/Martynas2/Big-Scale-Tesla-2020/master/Cleansed_data'\n",
        "filename = 'Clean_flood_data.csv'\n",
        "raw_data = pd.read_csv(join(folder_path, filename))\n",
        "raw_data.head()"
      ],
      "execution_count": 0,
      "outputs": [
        {
          "output_type": "execute_result",
          "data": {
            "text/html": [
              "<div>\n",
              "<style scoped>\n",
              "    .dataframe tbody tr th:only-of-type {\n",
              "        vertical-align: middle;\n",
              "    }\n",
              "\n",
              "    .dataframe tbody tr th {\n",
              "        vertical-align: top;\n",
              "    }\n",
              "\n",
              "    .dataframe thead th {\n",
              "        text-align: right;\n",
              "    }\n",
              "</style>\n",
              "<table border=\"1\" class=\"dataframe\">\n",
              "  <thead>\n",
              "    <tr style=\"text-align: right;\">\n",
              "      <th></th>\n",
              "      <th>Country</th>\n",
              "      <th>Began</th>\n",
              "      <th>Ended</th>\n",
              "      <th>Duration in Days</th>\n",
              "      <th>Dead</th>\n",
              "      <th>Displaced</th>\n",
              "      <th>Main cause</th>\n",
              "      <th>Severity *</th>\n",
              "      <th>Affected sq km</th>\n",
              "      <th>Magnitude (M)**</th>\n",
              "      <th>Longitude of Centroid X</th>\n",
              "      <th>Latitude of Centroid Y</th>\n",
              "    </tr>\n",
              "  </thead>\n",
              "  <tbody>\n",
              "    <tr>\n",
              "      <th>0</th>\n",
              "      <td>Columbia</td>\n",
              "      <td>01-Nov-14</td>\n",
              "      <td>14-Dec-14</td>\n",
              "      <td>44</td>\n",
              "      <td>44</td>\n",
              "      <td>0</td>\n",
              "      <td>Heavy rain</td>\n",
              "      <td>1.0</td>\n",
              "      <td>406009.51</td>\n",
              "      <td>7.251989</td>\n",
              "      <td>-75.5440</td>\n",
              "      <td>4.59198</td>\n",
              "    </tr>\n",
              "    <tr>\n",
              "      <th>1</th>\n",
              "      <td>USA</td>\n",
              "      <td>11-Dec-14</td>\n",
              "      <td>14-Dec-14</td>\n",
              "      <td>4</td>\n",
              "      <td>3</td>\n",
              "      <td>0</td>\n",
              "      <td>Torrential rain</td>\n",
              "      <td>1.0</td>\n",
              "      <td>50235.67</td>\n",
              "      <td>5.303072</td>\n",
              "      <td>-123.1010</td>\n",
              "      <td>39.79670</td>\n",
              "    </tr>\n",
              "    <tr>\n",
              "      <th>2</th>\n",
              "      <td>Brazil</td>\n",
              "      <td>10-Dec-14</td>\n",
              "      <td>14-Dec-14</td>\n",
              "      <td>5</td>\n",
              "      <td>0</td>\n",
              "      <td>0</td>\n",
              "      <td>Torrential rain</td>\n",
              "      <td>1.0</td>\n",
              "      <td>199807.20</td>\n",
              "      <td>5.999581</td>\n",
              "      <td>-49.2145</td>\n",
              "      <td>-24.85130</td>\n",
              "    </tr>\n",
              "    <tr>\n",
              "      <th>3</th>\n",
              "      <td>Bulgaria</td>\n",
              "      <td>04-Dec-14</td>\n",
              "      <td>14-Dec-14</td>\n",
              "      <td>11</td>\n",
              "      <td>40</td>\n",
              "      <td>1000</td>\n",
              "      <td>Heavy rain</td>\n",
              "      <td>1.5</td>\n",
              "      <td>147616.57</td>\n",
              "      <td>6.386619</td>\n",
              "      <td>27.7106</td>\n",
              "      <td>41.45790</td>\n",
              "    </tr>\n",
              "    <tr>\n",
              "      <th>4</th>\n",
              "      <td>Palestine</td>\n",
              "      <td>26-Nov-14</td>\n",
              "      <td>05-Dec-14</td>\n",
              "      <td>10</td>\n",
              "      <td>0</td>\n",
              "      <td>300</td>\n",
              "      <td>Torrential rain</td>\n",
              "      <td>1.5</td>\n",
              "      <td>2861.66</td>\n",
              "      <td>4.632709</td>\n",
              "      <td>34.4532</td>\n",
              "      <td>31.33780</td>\n",
              "    </tr>\n",
              "  </tbody>\n",
              "</table>\n",
              "</div>"
            ],
            "text/plain": [
              "     Country      Began  ... Longitude of Centroid X  Latitude of Centroid Y\n",
              "0   Columbia  01-Nov-14  ...                -75.5440                 4.59198\n",
              "1        USA  11-Dec-14  ...               -123.1010                39.79670\n",
              "2     Brazil  10-Dec-14  ...                -49.2145               -24.85130\n",
              "3   Bulgaria  04-Dec-14  ...                 27.7106                41.45790\n",
              "4  Palestine  26-Nov-14  ...                 34.4532                31.33780\n",
              "\n",
              "[5 rows x 12 columns]"
            ]
          },
          "metadata": {
            "tags": []
          },
          "execution_count": 18
        }
      ]
    },
    {
      "cell_type": "markdown",
      "metadata": {
        "id": "n3hM86ZLJ8CH",
        "colab_type": "text"
      },
      "source": [
        "Which country has the most entries?"
      ]
    },
    {
      "cell_type": "code",
      "metadata": {
        "id": "auJ_KGb2Pl2S",
        "colab_type": "code",
        "outputId": "9ee14976-fdd5-4bec-e312-a2a4d77e3e63",
        "colab": {
          "base_uri": "https://localhost:8080/",
          "height": 101
        }
      },
      "source": [
        "grpby_country = raw_data.groupby('Country')['Country'].count().sort_values(ascending=False)\n",
        "grpby_country.head(3)"
      ],
      "execution_count": 0,
      "outputs": [
        {
          "output_type": "execute_result",
          "data": {
            "text/plain": [
              "Country\n",
              "USA      381\n",
              "China    335\n",
              "India    219\n",
              "Name: Country, dtype: int64"
            ]
          },
          "metadata": {
            "tags": []
          },
          "execution_count": 19
        }
      ]
    },
    {
      "cell_type": "markdown",
      "metadata": {
        "id": "CC3Z1ybfPoP8",
        "colab_type": "text"
      },
      "source": [
        "Aha. The US! What are their leading causes for floodings?"
      ]
    },
    {
      "cell_type": "code",
      "metadata": {
        "id": "dFXmHz1UPwnk",
        "colab_type": "code",
        "outputId": "de896086-3fcf-4660-fb13-6d6bb3cd7175",
        "colab": {
          "base_uri": "https://localhost:8080/",
          "height": 674
        }
      },
      "source": [
        "usa_data = raw_data[raw_data['Country'] == 'USA']\n",
        "fig, ax = plt.subplots(2,1, figsize=(20,10))\n",
        "\n",
        "ax[0].hist(usa_data['Main cause'], align='left')\n",
        "ax[0].set_title('Main causes of floods in USA', size=20)\n",
        "\n",
        "ax[1].scatter(usa_data['Began'], usa_data['Dead'])\n",
        "ax[1].set_title('Recorded deaths after floods in USA', size=20)\n",
        "\n",
        "plt.xticks(np.arange(0, len(usa_data), step=10), rotation=60)\n",
        "\n",
        "plt.show()"
      ],
      "execution_count": 0,
      "outputs": [
        {
          "output_type": "display_data",
          "data": {
            "image/png": "[encoded data removed]",
            "text/plain": [
              "<Figure size 1440x720 with 2 Axes>"
            ]
          },
          "metadata": {
            "tags": []
          }
        }
      ]
    },
    {
      "cell_type": "markdown",
      "metadata": {
        "id": "m2RKl21XPv1J",
        "colab_type": "text"
      },
      "source": [
        "Okay then. Let's try a machine learning approach. Say we want to predict the number of deaths following a flood, given information about its duration, number of displaced people and the affected area."
      ]
    },
    {
      "cell_type": "code",
      "metadata": {
        "id": "Ub5Lern8QGYh",
        "colab_type": "code",
        "outputId": "ddfd816e-96ec-425d-8b4a-9834356b50d1",
        "colab": {
          "base_uri": "https://localhost:8080/",
          "height": 195
        }
      },
      "source": [
        "usa = usa_data[['Began', 'Duration in Days', 'Dead', 'Displaced', 'Affected sq km']].sample(frac=1, random_state=42)\n",
        "usa.columns = ['Began', 'Dur', 'Dead', 'Disp', 'Aff']\n",
        "usa.head()"
      ],
      "execution_count": 0,
      "outputs": [
        {
          "output_type": "execute_result",
          "data": {
            "text/html": [
              "<div>\n",
              "<style scoped>\n",
              "    .dataframe tbody tr th:only-of-type {\n",
              "        vertical-align: middle;\n",
              "    }\n",
              "\n",
              "    .dataframe tbody tr th {\n",
              "        vertical-align: top;\n",
              "    }\n",
              "\n",
              "    .dataframe thead th {\n",
              "        text-align: right;\n",
              "    }\n",
              "</style>\n",
              "<table border=\"1\" class=\"dataframe\">\n",
              "  <thead>\n",
              "    <tr style=\"text-align: right;\">\n",
              "      <th></th>\n",
              "      <th>Began</th>\n",
              "      <th>Dur</th>\n",
              "      <th>Dead</th>\n",
              "      <th>Disp</th>\n",
              "      <th>Aff</th>\n",
              "    </tr>\n",
              "  </thead>\n",
              "  <tbody>\n",
              "    <tr>\n",
              "      <th>3072</th>\n",
              "      <td>07-Feb-96</td>\n",
              "      <td>7</td>\n",
              "      <td>7</td>\n",
              "      <td>24900</td>\n",
              "      <td>482618.13</td>\n",
              "    </tr>\n",
              "    <tr>\n",
              "      <th>2281</th>\n",
              "      <td>17-Mar-02</td>\n",
              "      <td>8</td>\n",
              "      <td>7</td>\n",
              "      <td>2000</td>\n",
              "      <td>40931.32</td>\n",
              "    </tr>\n",
              "    <tr>\n",
              "      <th>648</th>\n",
              "      <td>01-Nov-09</td>\n",
              "      <td>3</td>\n",
              "      <td>0</td>\n",
              "      <td>0</td>\n",
              "      <td>14193.55</td>\n",
              "    </tr>\n",
              "    <tr>\n",
              "      <th>741</th>\n",
              "      <td>24-Mar-09</td>\n",
              "      <td>28</td>\n",
              "      <td>0</td>\n",
              "      <td>5000</td>\n",
              "      <td>44401.17</td>\n",
              "    </tr>\n",
              "    <tr>\n",
              "      <th>756</th>\n",
              "      <td>09-Feb-09</td>\n",
              "      <td>2</td>\n",
              "      <td>0</td>\n",
              "      <td>1000</td>\n",
              "      <td>117999.31</td>\n",
              "    </tr>\n",
              "  </tbody>\n",
              "</table>\n",
              "</div>"
            ],
            "text/plain": [
              "          Began  Dur  Dead   Disp        Aff\n",
              "3072  07-Feb-96    7     7  24900  482618.13\n",
              "2281  17-Mar-02    8     7   2000   40931.32\n",
              "648   01-Nov-09    3     0      0   14193.55\n",
              "741   24-Mar-09   28     0   5000   44401.17\n",
              "756   09-Feb-09    2     0   1000  117999.31"
            ]
          },
          "metadata": {
            "tags": []
          },
          "execution_count": 22
        }
      ]
    },
    {
      "cell_type": "markdown",
      "metadata": {
        "id": "Jgxd8gJ-QLz1",
        "colab_type": "text"
      },
      "source": [
        "The numbers are extremely varying (Dur << Aff for instance), so we need to do some normalization."
      ]
    },
    {
      "cell_type": "code",
      "metadata": {
        "id": "YPdY7g7KQSea",
        "colab_type": "code",
        "colab": {}
      },
      "source": [
        "from sklearn.model_selection import train_test_split\n",
        "from sklearn import preprocessing\n",
        "\n",
        "scale = preprocessing.StandardScaler()\n",
        "\n",
        "X = usa[['Dur', 'Disp', 'Aff']]\n",
        "y = usa['Dead']\n",
        "\n",
        "X_scaled = scale.fit_transform(X.values)\n",
        "\n",
        "y_mean = y.mean()\n",
        "y_std = y.std()\n",
        "\n",
        "y_scaled = pd.Series([(yi - y_mean) / y_std for yi in y.values], index=y.index)\n",
        "\n",
        "X_train, X_test, y_train, y_test = train_test_split(X_scaled, y_scaled, test_size=0.1, random_state=2)"
      ],
      "execution_count": 0,
      "outputs": []
    },
    {
      "cell_type": "markdown",
      "metadata": {
        "id": "4eZ7rmAXQZXb",
        "colab_type": "text"
      },
      "source": [
        "For this particular problem we'll try the [TheilSenRegressor](https://scikit-learn.org/stable/modules/generated/sklearn.linear_model.TheilSenRegressor.html), a robust multivariate regression model"
      ]
    },
    {
      "cell_type": "code",
      "metadata": {
        "id": "Px_udWVXQcF0",
        "colab_type": "code",
        "outputId": "882d014d-2c0c-44f1-ef62-0a249e85ccfc",
        "colab": {
          "base_uri": "https://localhost:8080/",
          "height": 34
        }
      },
      "source": [
        "from sklearn.linear_model import TheilSenRegressor\n",
        "\n",
        "reg = TheilSenRegressor(random_state=2)\n",
        "reg.fit(X_train, y_train)\n",
        "\n",
        "pred = reg.predict(X_test)\n",
        "\n",
        "y_pred_rescaled = pd.Series([pi*y_std + y_mean for pi in pred], index=y_test.index)\n",
        "y_test_rescaled = pd.Series([yi*y_std + y_mean for yi in y_test], index=y_test.index)\n",
        "\n",
        "print(f\"Size of train dataset: {len(y_train)}, size of test dataset: {len(y_test)}\")"
      ],
      "execution_count": 0,
      "outputs": [
        {
          "output_type": "stream",
          "text": [
            "Size of train dataset: 342, size of test dataset: 39\n"
          ],
          "name": "stdout"
        }
      ]
    },
    {
      "cell_type": "markdown",
      "metadata": {
        "id": "ny4PkilBQisk",
        "colab_type": "text"
      },
      "source": [
        "Obviously we picked a small test dataset, but so is the train dataset.\n",
        "This demonstration only serves as a proof of concept, and we should ideally be working on thousands of samples."
      ]
    },
    {
      "cell_type": "code",
      "metadata": {
        "id": "cFvL7FDdQoyc",
        "colab_type": "code",
        "outputId": "ee5d6bcb-9f3a-4475-d916-d7598e1a1bca",
        "colab": {
          "base_uri": "https://localhost:8080/",
          "height": 676
        }
      },
      "source": [
        "fig, ax = plt.subplots(1,1, figsize=(18,10))\n",
        "plt.title(f\"\"\"Predicted number of deaths in USA after flooding\n",
        "based on duration of flood, affected area and number of displaced people.\"\"\",\n",
        "         size=20)\n",
        "dates = [usa.loc[idx]['Began'] for idx in y_test.index]\n",
        "r = ax.bar(dates, y_test_rescaled, alpha=0.7, width=0.5, label='True number of deaths')\n",
        "p = ax.bar(dates, y_pred_rescaled, alpha=0.2, label='Predicted number of deaths')\n",
        "plt.xticks(rotation=60)\n",
        "plt.ylabel('Number of deaths', size=30)\n",
        "ax.legend(prop={'size': 20})\n",
        "plt.show()"
      ],
      "execution_count": 0,
      "outputs": [
        {
          "output_type": "display_data",
          "data": {
            "image/png": "[encoded data removed]",
            "text/plain": [
              "<Figure size 1296x720 with 1 Axes>"
            ]
          },
          "metadata": {
            "tags": []
          }
        }
      ]
    },
    {
      "cell_type": "markdown",
      "metadata": {
        "id": "igHe8xLuQua5",
        "colab_type": "text"
      },
      "source": [
        "So the predictions are not very precise, but it's not completely off even though the lack of train data. Be also aware that the model is not tuned (we only want to prove the concept here). Let's investigate the cases where the model failed. What happened 15 Jun 90?"
      ]
    },
    {
      "cell_type": "code",
      "metadata": {
        "id": "1REeqkwsQ9z-",
        "colab_type": "code",
        "outputId": "d67a0603-f89c-4657-a599-e8ce0a9085d3",
        "colab": {
          "base_uri": "https://localhost:8080/",
          "height": 110
        }
      },
      "source": [
        "usa_data[usa_data['Began'] == '15-Jun-90']"
      ],
      "execution_count": 0,
      "outputs": [
        {
          "output_type": "execute_result",
          "data": {
            "text/html": [
              "<div>\n",
              "<style scoped>\n",
              "    .dataframe tbody tr th:only-of-type {\n",
              "        vertical-align: middle;\n",
              "    }\n",
              "\n",
              "    .dataframe tbody tr th {\n",
              "        vertical-align: top;\n",
              "    }\n",
              "\n",
              "    .dataframe thead th {\n",
              "        text-align: right;\n",
              "    }\n",
              "</style>\n",
              "<table border=\"1\" class=\"dataframe\">\n",
              "  <thead>\n",
              "    <tr style=\"text-align: right;\">\n",
              "      <th></th>\n",
              "      <th>Country</th>\n",
              "      <th>Began</th>\n",
              "      <th>Ended</th>\n",
              "      <th>Duration in Days</th>\n",
              "      <th>Dead</th>\n",
              "      <th>Displaced</th>\n",
              "      <th>Main cause</th>\n",
              "      <th>Severity *</th>\n",
              "      <th>Affected sq km</th>\n",
              "      <th>Magnitude (M)**</th>\n",
              "      <th>Longitude of Centroid X</th>\n",
              "      <th>Latitude of Centroid Y</th>\n",
              "    </tr>\n",
              "  </thead>\n",
              "  <tbody>\n",
              "    <tr>\n",
              "      <th>3670</th>\n",
              "      <td>USA</td>\n",
              "      <td>15-Jun-90</td>\n",
              "      <td>16-Jun-90</td>\n",
              "      <td>2</td>\n",
              "      <td>26</td>\n",
              "      <td>440</td>\n",
              "      <td>Torrential rain</td>\n",
              "      <td>1.0</td>\n",
              "      <td>5167.77</td>\n",
              "      <td>4.014333</td>\n",
              "      <td>-80.9321</td>\n",
              "      <td>40.2508</td>\n",
              "    </tr>\n",
              "  </tbody>\n",
              "</table>\n",
              "</div>"
            ],
            "text/plain": [
              "     Country      Began  ... Longitude of Centroid X  Latitude of Centroid Y\n",
              "3670     USA  15-Jun-90  ...                -80.9321                 40.2508\n",
              "\n",
              "[1 rows x 12 columns]"
            ]
          },
          "metadata": {
            "tags": []
          },
          "execution_count": 26
        }
      ]
    },
    {
      "cell_type": "markdown",
      "metadata": {
        "id": "mbeF_m3DRAx_",
        "colab_type": "text"
      },
      "source": [
        "Clearly the duration was very short, and also affected sq km reasonably low. Thus the model (based on only a few hundred samples) expected death rate to be much lower. What about the peak 09 Apr 89?"
      ]
    },
    {
      "cell_type": "code",
      "metadata": {
        "id": "ZXY4CyY-REOD",
        "colab_type": "code",
        "outputId": "7d8a5bdf-473f-4e9b-efa2-434e7ff697f7",
        "colab": {
          "base_uri": "https://localhost:8080/",
          "height": 110
        }
      },
      "source": [
        "usa_data[usa_data['Began'] == '09-Apr-89']"
      ],
      "execution_count": 0,
      "outputs": [
        {
          "output_type": "execute_result",
          "data": {
            "text/html": [
              "<div>\n",
              "<style scoped>\n",
              "    .dataframe tbody tr th:only-of-type {\n",
              "        vertical-align: middle;\n",
              "    }\n",
              "\n",
              "    .dataframe tbody tr th {\n",
              "        vertical-align: top;\n",
              "    }\n",
              "\n",
              "    .dataframe thead th {\n",
              "        text-align: right;\n",
              "    }\n",
              "</style>\n",
              "<table border=\"1\" class=\"dataframe\">\n",
              "  <thead>\n",
              "    <tr style=\"text-align: right;\">\n",
              "      <th></th>\n",
              "      <th>Country</th>\n",
              "      <th>Began</th>\n",
              "      <th>Ended</th>\n",
              "      <th>Duration in Days</th>\n",
              "      <th>Dead</th>\n",
              "      <th>Displaced</th>\n",
              "      <th>Main cause</th>\n",
              "      <th>Severity *</th>\n",
              "      <th>Affected sq km</th>\n",
              "      <th>Magnitude (M)**</th>\n",
              "      <th>Longitude of Centroid X</th>\n",
              "      <th>Latitude of Centroid Y</th>\n",
              "    </tr>\n",
              "  </thead>\n",
              "  <tbody>\n",
              "    <tr>\n",
              "      <th>3790</th>\n",
              "      <td>USA</td>\n",
              "      <td>09-Apr-89</td>\n",
              "      <td>19-Apr-89</td>\n",
              "      <td>11</td>\n",
              "      <td>45</td>\n",
              "      <td>306000</td>\n",
              "      <td>Heavy rain</td>\n",
              "      <td>2.0</td>\n",
              "      <td>154568.76</td>\n",
              "      <td>6.531544</td>\n",
              "      <td>-120.672</td>\n",
              "      <td>43.819</td>\n",
              "    </tr>\n",
              "  </tbody>\n",
              "</table>\n",
              "</div>"
            ],
            "text/plain": [
              "     Country      Began  ... Longitude of Centroid X  Latitude of Centroid Y\n",
              "3790     USA  09-Apr-89  ...                -120.672                  43.819\n",
              "\n",
              "[1 rows x 12 columns]"
            ]
          },
          "metadata": {
            "tags": []
          },
          "execution_count": 27
        }
      ]
    },
    {
      "cell_type": "markdown",
      "metadata": {
        "id": "0kjHBbPFRDfA",
        "colab_type": "text"
      },
      "source": [
        "Here our model managed to do better since the duration is much longer and affected sq km much larger! \n",
        "\n",
        "__Congratulations! The exercise is over and further analytics are topics of the coming weeks.__"
      ]
    },
    {
      "cell_type": "markdown",
      "metadata": {
        "id": "aSjv3ND88sXK",
        "colab_type": "text"
      },
      "source": [
        "## **3. Solution (video)**\n",
        "\n",
        "<a href=\"http://www.youtube.com/watch?feature=player_embedded&v=yWloaxXWv0gE\n",
        "\" target=\"_blank\"><img src=\"http://img.youtube.com/vi/yWloaxXWv0g/0.jpg\" \n",
        "alt=\"IMAGE ALT TEXT HERE\" width=\"240\" height=\"180\" border=\"10\" /></a>\n",
        "\n"
      ]
    },
    {
      "cell_type": "code",
      "metadata": {
        "id": "wo3FYgfSYaLQ",
        "colab_type": "code",
        "colab": {}
      },
      "source": [
        ""
      ],
      "execution_count": 0,
      "outputs": []
    }
  ]
}
